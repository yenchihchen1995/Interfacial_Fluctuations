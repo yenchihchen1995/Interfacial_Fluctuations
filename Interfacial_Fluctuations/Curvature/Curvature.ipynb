{
 "cells": [
  {
   "cell_type": "markdown",
   "metadata": {
    "id": "4OLBdGvoWDBQ"
   },
   "source": [
    "#**Initial Setting**\n",
    "1.   Installation of freud package\n",
    "2.   Add path\n",
    "\n",
    "\n",
    "\n",
    "\n",
    "\n",
    "\n",
    "\n"
   ]
  },
  {
   "cell_type": "code",
   "execution_count": 2,
   "metadata": {
    "colab": {
     "base_uri": "https://localhost:8080/"
    },
    "executionInfo": {
     "elapsed": 5376,
     "status": "ok",
     "timestamp": 1607776212890,
     "user": {
      "displayName": "Louis Chen",
      "photoUrl": "https://lh3.googleusercontent.com/a-/AOh14GggPBi2Ljc5CByEmkzo5BxPlqs9Z8G4DrHDvdkma_A=s64",
      "userId": "17433184704720974577"
     },
     "user_tz": -480
    },
    "id": "a_jTg7cBUGXa",
    "outputId": "1dfb9c1c-f19e-41fc-e35a-a9808b17a2e1"
   },
   "outputs": [
    {
     "name": "stdout",
     "output_type": "stream",
     "text": [
      "Collecting freud-analysis\n",
      "\u001b[?25l  Downloading https://files.pythonhosted.org/packages/e3/98/11fb231ab41106c1d34de30767a5eb5405264eb86ecc2e65c4af0077860f/freud_analysis-2.4.1-cp36-cp36m-manylinux2010_x86_64.whl (5.1MB)\n",
      "\u001b[K     |████████████████████████████████| 5.1MB 7.1MB/s \n",
      "\u001b[?25hRequirement already satisfied: cython>=0.29 in /usr/local/lib/python3.6/dist-packages (from freud-analysis) (0.29.21)\n",
      "Requirement already satisfied: numpy>=1.14 in /usr/local/lib/python3.6/dist-packages (from freud-analysis) (1.18.5)\n",
      "Collecting rowan>=1.2\n",
      "  Downloading https://files.pythonhosted.org/packages/1e/c9/1db928d23c74318af701d94cc60f880ebcff40c1493e0bf05d5a05cb74a4/rowan-1.3.0.post1-py2.py3-none-any.whl\n",
      "Requirement already satisfied: scipy>=1.1 in /usr/local/lib/python3.6/dist-packages (from freud-analysis) (1.4.1)\n",
      "Installing collected packages: rowan, freud-analysis\n",
      "Successfully installed freud-analysis-2.4.1 rowan-1.3.0.post1\n"
     ]
    }
   ],
   "source": [
    "!pip install freud-analysis"
   ]
  },
  {
   "cell_type": "code",
   "execution_count": 3,
   "metadata": {
    "executionInfo": {
     "elapsed": 5371,
     "status": "ok",
     "timestamp": 1607776212891,
     "user": {
      "displayName": "Louis Chen",
      "photoUrl": "https://lh3.googleusercontent.com/a-/AOh14GggPBi2Ljc5CByEmkzo5BxPlqs9Z8G4DrHDvdkma_A=s64",
      "userId": "17433184704720974577"
     },
     "user_tz": -480
    },
    "id": "o7BW-7WKWBR5"
   },
   "outputs": [],
   "source": [
    "import sys\n",
    "sys.path.append('/content/drive/MyDrive/Paperwork/Colab')"
   ]
  },
  {
   "cell_type": "markdown",
   "metadata": {
    "id": "AyJd6WFeP6nb"
   },
   "source": [
    "#**Definition**"
   ]
  },
  {
   "cell_type": "code",
   "execution_count": 4,
   "metadata": {
    "executionInfo": {
     "elapsed": 2829,
     "status": "ok",
     "timestamp": 1607776216195,
     "user": {
      "displayName": "Louis Chen",
      "photoUrl": "https://lh3.googleusercontent.com/a-/AOh14GggPBi2Ljc5CByEmkzo5BxPlqs9Z8G4DrHDvdkma_A=s64",
      "userId": "17433184704720974577"
     },
     "user_tz": -480
    },
    "id": "cR3xEYWgPrgs"
   },
   "outputs": [],
   "source": [
    "from Definition_all import *\n",
    "import numpy as np\n",
    "import matplotlib.pyplot as plt\n",
    "import pickle\n",
    "from scipy.interpolate import interp1d\n",
    "from scipy import interpolate\n",
    "from shapely.geometry import Polygon, Point"
   ]
  },
  {
   "cell_type": "markdown",
   "metadata": {
    "id": "aOIw5hixWjJL"
   },
   "source": [
    "#**Clusters**"
   ]
  },
  {
   "cell_type": "markdown",
   "metadata": {
    "id": "_7pY24bzVzj3"
   },
   "source": [
    "## **Parameters**"
   ]
  },
  {
   "cell_type": "code",
   "execution_count": 5,
   "metadata": {
    "executionInfo": {
     "elapsed": 504,
     "status": "ok",
     "timestamp": 1607776220056,
     "user": {
      "displayName": "Louis Chen",
      "photoUrl": "https://lh3.googleusercontent.com/a-/AOh14GggPBi2Ljc5CByEmkzo5BxPlqs9Z8G4DrHDvdkma_A=s64",
      "userId": "17433184704720974577"
     },
     "user_tz": -480
    },
    "id": "wbSz2XndWo6O"
   },
   "outputs": [],
   "source": [
    "minmum_particle_number_of_cluster = 150\n",
    "voronoi_cutoff = 43\n",
    "initial_frame = 400\n",
    "everyframe = 10"
   ]
  },
  {
   "cell_type": "markdown",
   "metadata": {
    "id": "rLQsIO2pdCoY"
   },
   "source": [
    "##**Data**\n",
    "\n",
    "\n",
    "---\n",
    "\n",
    "\n",
    "**output data:** sorted_particles_frames"
   ]
  },
  {
   "cell_type": "markdown",
   "metadata": {
    "id": "H6S-tEKdRgiC"
   },
   "source": [
    "### Data collection and box size determination"
   ]
  },
  {
   "cell_type": "code",
   "execution_count": 6,
   "metadata": {
    "colab": {
     "base_uri": "https://localhost:8080/"
    },
    "executionInfo": {
     "elapsed": 5218,
     "status": "ok",
     "timestamp": 1607776224776,
     "user": {
      "displayName": "Louis Chen",
      "photoUrl": "https://lh3.googleusercontent.com/a-/AOh14GggPBi2Ljc5CByEmkzo5BxPlqs9Z8G4DrHDvdkma_A=s64",
      "userId": "17433184704720974577"
     },
     "user_tz": -480
    },
    "id": "V4Md3CszQJHM",
    "outputId": "8be8904e-ce0f-4da4-9510-1be62cc8bc32"
   },
   "outputs": [
    {
     "name": "stdout",
     "output_type": "stream",
     "text": [
      "box size =  [1023.0, 1024.0]\n"
     ]
    }
   ],
   "source": [
    "with open('/content/drive/MyDrive/Paperwork/Coding/Droplets_Experiment/data/Exp_voronoi.pickle', 'rb') as file:\n",
    "    data = pickle.load(file)\n",
    "box_size = get_box_size(data)\n",
    "print('box size = ', box_size)"
   ]
  },
  {
   "cell_type": "markdown",
   "metadata": {
    "id": "5Do5lvLYRo16"
   },
   "source": [
    "### Choosing the sepecific frames"
   ]
  },
  {
   "cell_type": "code",
   "execution_count": 7,
   "metadata": {
    "colab": {
     "base_uri": "https://localhost:8080/"
    },
    "executionInfo": {
     "elapsed": 5213,
     "status": "ok",
     "timestamp": 1607776224776,
     "user": {
      "displayName": "Louis Chen",
      "photoUrl": "https://lh3.googleusercontent.com/a-/AOh14GggPBi2Ljc5CByEmkzo5BxPlqs9Z8G4DrHDvdkma_A=s64",
      "userId": "17433184704720974577"
     },
     "user_tz": -480
    },
    "id": "HChXdvt2Q1kp",
    "outputId": "e7ceeec4-e041-494d-f9cd-921b08da309b"
   },
   "outputs": [
    {
     "name": "stdout",
     "output_type": "stream",
     "text": [
      "number of frames =  42\n"
     ]
    }
   ],
   "source": [
    "frames = []\n",
    "for f in range(initial_frame, len(data)-everyframe, everyframe):\n",
    "    frames.append(np.array(data[f]))\n",
    "frames = np.array(frames)\n",
    "print('number of frames = ', len(frames))"
   ]
  },
  {
   "cell_type": "markdown",
   "metadata": {
    "id": "HieAoieGRuIx"
   },
   "source": [
    "### Get clusters and interfacial particles"
   ]
  },
  {
   "cell_type": "code",
   "execution_count": 8,
   "metadata": {
    "executionInfo": {
     "elapsed": 6653,
     "status": "ok",
     "timestamp": 1607776226217,
     "user": {
      "displayName": "Louis Chen",
      "photoUrl": "https://lh3.googleusercontent.com/a-/AOh14GggPBi2Ljc5CByEmkzo5BxPlqs9Z8G4DrHDvdkma_A=s64",
      "userId": "17433184704720974577"
     },
     "user_tz": -480
    },
    "id": "jmGlhmbmRtQ1"
   },
   "outputs": [],
   "source": [
    "cluster_frames = []\n",
    "for frame in frames:\n",
    "    cluster_frames.append(pick_clusters(frame,box_size, minmum_particle_number_of_cluster))\n",
    "cluster_frames = np.array(cluster_frames)"
   ]
  },
  {
   "cell_type": "code",
   "execution_count": 9,
   "metadata": {
    "executionInfo": {
     "elapsed": 6652,
     "status": "ok",
     "timestamp": 1607776226218,
     "user": {
      "displayName": "Louis Chen",
      "photoUrl": "https://lh3.googleusercontent.com/a-/AOh14GggPBi2Ljc5CByEmkzo5BxPlqs9Z8G4DrHDvdkma_A=s64",
      "userId": "17433184704720974577"
     },
     "user_tz": -480
    },
    "id": "Hm_Qos5RR1VD"
   },
   "outputs": [],
   "source": [
    "interfacial_particles_frames = []\n",
    "for i, frame in enumerate(cluster_frames):\n",
    "    interfacial_particles_groups = []\n",
    "    for group in frame:\n",
    "        interfacial_particles = group[group[:,2] > voronoi_cutoff]\n",
    "        interfacial_particles_groups.append(np.array(interfacial_particles))\n",
    "    # print('No.%s frame has '%i, len(interfacial_particles_groups), 'groups')\n",
    "    interfacial_particles_frames.append(np.array(interfacial_particles_groups))\n",
    "interfacial_particles_frames = np.array(interfacial_particles_frames)"
   ]
  },
  {
   "cell_type": "markdown",
   "metadata": {
    "id": "aXap0fSVSo-W"
   },
   "source": [
    "### Sort interfacial particles"
   ]
  },
  {
   "cell_type": "code",
   "execution_count": 10,
   "metadata": {
    "executionInfo": {
     "elapsed": 7885,
     "status": "ok",
     "timestamp": 1607776227454,
     "user": {
      "displayName": "Louis Chen",
      "photoUrl": "https://lh3.googleusercontent.com/a-/AOh14GggPBi2Ljc5CByEmkzo5BxPlqs9Z8G4DrHDvdkma_A=s64",
      "userId": "17433184704720974577"
     },
     "user_tz": -480
    },
    "id": "FD9kuGu4Sr49"
   },
   "outputs": [],
   "source": [
    "sorted_particles_frames = []\n",
    "for frame in interfacial_particles_frames:\n",
    "    sorted_particles_group = []\n",
    "    for group in frame:\n",
    "        sorted_particles = sort_particles(group[:,:2], 50)\n",
    "        sorted_particles_group.append(np.array(sorted_particles))\n",
    "#         plt.plot(*sorted_particles.T[:2], '-o', mfc = 'k', ms = 3)\n",
    "#     plt.show()\n",
    "    sorted_particles_frames.append(np.array(sorted_particles_group))\n",
    "sorted_particles_frames = np.array(sorted_particles_frames)"
   ]
  },
  {
   "cell_type": "markdown",
   "metadata": {
    "id": "keCn0kp8S2AM"
   },
   "source": [
    "## **Clurvature analyses**"
   ]
  },
  {
   "cell_type": "code",
   "execution_count": 11,
   "metadata": {
    "executionInfo": {
     "elapsed": 8291,
     "status": "ok",
     "timestamp": 1607776227862,
     "user": {
      "displayName": "Louis Chen",
      "photoUrl": "https://lh3.googleusercontent.com/a-/AOh14GggPBi2Ljc5CByEmkzo5BxPlqs9Z8G4DrHDvdkma_A=s64",
      "userId": "17433184704720974577"
     },
     "user_tz": -480
    },
    "id": "pS9zPUB9R2el"
   },
   "outputs": [],
   "source": [
    "curv_interface_frames = []; curv_std_frames = []; curv_all = []\n",
    "for frame in sorted_particles_frames:\n",
    "    curv_interface_group = []; curv_std_group = []\n",
    "    for interface in frame:\n",
    "        curv_interface = []\n",
    "        for i in range(1, len(interface)-1):\n",
    "            p1 = interface[i-1]\n",
    "            p2 = interface[i]\n",
    "            p3 = interface[i+1]\n",
    "            centre, radius = define_circle(p1, p2, p3)\n",
    "            curv_interface.append(1/radius)\n",
    "            curv_all.append(1/radius)\n",
    "        curv_interface_group.append(curv_interface)\n",
    "        curv_std_group.append(np.std(curv_interface))\n",
    "    curv_interface_frames.append(curv_interface_group)\n",
    "    curv_std_frames.append(curv_std_group)"
   ]
  },
  {
   "cell_type": "code",
   "execution_count": 12,
   "metadata": {
    "executionInfo": {
     "elapsed": 8291,
     "status": "ok",
     "timestamp": 1607776227863,
     "user": {
      "displayName": "Louis Chen",
      "photoUrl": "https://lh3.googleusercontent.com/a-/AOh14GggPBi2Ljc5CByEmkzo5BxPlqs9Z8G4DrHDvdkma_A=s64",
      "userId": "17433184704720974577"
     },
     "user_tz": -480
    },
    "id": "9n6Ob5msSmIp"
   },
   "outputs": [],
   "source": [
    "cluster_size_frames = []\n",
    "for frame in cluster_frames:\n",
    "  cluster_size_group = []\n",
    "  for group in frame:\n",
    "    cluster_size_group.append(len(group))\n",
    "  cluster_size_frames.append(cluster_size_group)"
   ]
  },
  {
   "cell_type": "markdown",
   "metadata": {
    "id": "h5osVa21XelX"
   },
   "source": [
    "### PDF of Curvature"
   ]
  },
  {
   "cell_type": "code",
   "execution_count": 13,
   "metadata": {
    "colab": {
     "base_uri": "https://localhost:8080/",
     "height": 305
    },
    "executionInfo": {
     "elapsed": 8844,
     "status": "ok",
     "timestamp": 1607776228424,
     "user": {
      "displayName": "Louis Chen",
      "photoUrl": "https://lh3.googleusercontent.com/a-/AOh14GggPBi2Ljc5CByEmkzo5BxPlqs9Z8G4DrHDvdkma_A=s64",
      "userId": "17433184704720974577"
     },
     "user_tz": -480
    },
    "id": "pxzfSVi9Up32",
    "outputId": "c9add717-40a8-48fe-a549-d181a5cc4926"
   },
   "outputs": [
    {
     "data": {
      "image/png": "[encoded data removed]",
      "text/plain": [
       "<Figure size 432x288 with 1 Axes>"
      ]
     },
     "metadata": {
      "needs_background": "light",
      "tags": []
     },
     "output_type": "display_data"
    }
   ],
   "source": [
    "bins = np.linspace(0, 1.0, 50)\n",
    "plt.hist(curv_all, bins = bins, ec = 'k', density= True)\n",
    "plt.xlabel('curvature', fontsize = 16)\n",
    "plt.ylabel('PDF', fontsize = 16)\n",
    "plt.title('Clusters', fontsize = 20)\n",
    "plt.savefig('PDF_curvature_clusters.png', dpi = 150)\n"
   ]
  },
  {
   "cell_type": "code",
   "execution_count": 14,
   "metadata": {
    "colab": {
     "base_uri": "https://localhost:8080/",
     "height": 299
    },
    "executionInfo": {
     "elapsed": 9098,
     "status": "ok",
     "timestamp": 1607776228686,
     "user": {
      "displayName": "Louis Chen",
      "photoUrl": "https://lh3.googleusercontent.com/a-/AOh14GggPBi2Ljc5CByEmkzo5BxPlqs9Z8G4DrHDvdkma_A=s64",
      "userId": "17433184704720974577"
     },
     "user_tz": -480
    },
    "id": "vc55VcOzj4j3",
    "outputId": "f504d546-4e0c-4218-ae43-06eef02f6c2c"
   },
   "outputs": [
    {
     "name": "stdout",
     "output_type": "stream",
     "text": [
      "(49,) (49,)\n"
     ]
    },
    {
     "data": {
      "text/plain": [
       "[<matplotlib.lines.Line2D at 0x7f395cd1a438>]"
      ]
     },
     "execution_count": 14,
     "metadata": {
      "tags": []
     },
     "output_type": "execute_result"
    },
    {
     "data": {
      "image/png": "[encoded data removed]",
      "text/plain": [
       "<Figure size 432x288 with 1 Axes>"
      ]
     },
     "metadata": {
      "needs_background": "light",
      "tags": []
     },
     "output_type": "display_data"
    }
   ],
   "source": [
    "bins = np.linspace(0, 0.7, 50)\n",
    "hist, bins = np.histogram(curv_all, bins = bins, density = True)\n",
    "xdata = bins[:-1] + (bins[1] - bins[0]) /2\n",
    "print(xdata.shape, hist.shape)\n",
    "result = np.vstack((xdata, hist)).T\n",
    "plt.plot(*result.T, 'o')\n",
    "# with open('PDF_curvature_clusters_%s.pickle'%(minmum_particle_number_of_cluster), 'wb') as file:\n",
    "#   pickle.dump(result, file)"
   ]
  },
  {
   "cell_type": "markdown",
   "metadata": {
    "id": "xGi9JSS9T36i"
   },
   "source": [
    "###Standard deviation "
   ]
  },
  {
   "cell_type": "code",
   "execution_count": 15,
   "metadata": {
    "executionInfo": {
     "elapsed": 9095,
     "status": "ok",
     "timestamp": 1607776228686,
     "user": {
      "displayName": "Louis Chen",
      "photoUrl": "https://lh3.googleusercontent.com/a-/AOh14GggPBi2Ljc5CByEmkzo5BxPlqs9Z8G4DrHDvdkma_A=s64",
      "userId": "17433184704720974577"
     },
     "user_tz": -480
    },
    "id": "HwFBdznaSu7l"
   },
   "outputs": [],
   "source": [
    "curv_std_all = []\n",
    "for cluster_size, curv_std in zip(cluster_size_frames, curv_std_frames):\n",
    "  for i, j in zip(cluster_size, curv_std):\n",
    "    curv_std_all.append(np.array([i,j]))\n",
    "curv_std_all = np.array(curv_std_all)"
   ]
  },
  {
   "cell_type": "code",
   "execution_count": 16,
   "metadata": {
    "colab": {
     "base_uri": "https://localhost:8080/",
     "height": 284
    },
    "executionInfo": {
     "elapsed": 9384,
     "status": "ok",
     "timestamp": 1607776228980,
     "user": {
      "displayName": "Louis Chen",
      "photoUrl": "https://lh3.googleusercontent.com/a-/AOh14GggPBi2Ljc5CByEmkzo5BxPlqs9Z8G4DrHDvdkma_A=s64",
      "userId": "17433184704720974577"
     },
     "user_tz": -480
    },
    "id": "ItFfcRccTzA9",
    "outputId": "7c601673-f4f6-4314-ed8b-79dcc39246e0"
   },
   "outputs": [
    {
     "data": {
      "image/png": "[encoded data removed]",
      "text/plain": [
       "<Figure size 432x288 with 1 Axes>"
      ]
     },
     "metadata": {
      "needs_background": "light",
      "tags": []
     },
     "output_type": "display_data"
    }
   ],
   "source": [
    "plt.plot(*curv_std_all.T, 'o', mec = 'k', mfc = 'darkorange')\n",
    "plt.xlabel('cluster size (number of particles)', fontsize = 16)\n",
    "plt.ylabel('std of curvature', fontsize = 16)\n",
    "plt.savefig('std_curvature_clusters.png', dpi = 150)"
   ]
  },
  {
   "cell_type": "markdown",
   "metadata": {
    "id": "Buk_e69YdOx5"
   },
   "source": [
    "#**Slab**"
   ]
  },
  {
   "cell_type": "markdown",
   "metadata": {
    "id": "sOmITUqzW-l5"
   },
   "source": [
    "## **Parameters**"
   ]
  },
  {
   "cell_type": "code",
   "execution_count": null,
   "metadata": {
    "id": "CfHAY-kRW-l5"
   },
   "outputs": [],
   "source": [
    "box_size = [60, 120]\n",
    "voronoi_cutoff = 0.5\n",
    "initial_frame = 300\n",
    "everyframe = 1"
   ]
  },
  {
   "cell_type": "markdown",
   "metadata": {
    "id": "Ib-wLcmUdUcu"
   },
   "source": [
    "## **Data**"
   ]
  },
  {
   "cell_type": "code",
   "execution_count": null,
   "metadata": {
    "id": "1VzWXXnQYwLs"
   },
   "outputs": [],
   "source": [
    "with open('/content/drive/MyDrive/Paperwork/Coding/Simulation/data/slab.pickle','rb') as file:\n",
    "  data = pickle.load(file)"
   ]
  },
  {
   "cell_type": "code",
   "execution_count": null,
   "metadata": {
    "id": "ZiCAPzFPZNTl"
   },
   "outputs": [],
   "source": [
    "specific_data = data[1815:]\n",
    "group_data = []\n",
    "for frame in specific_data:\n",
    "    group_data.append(frame[frame[:,3] == 1])\n",
    "group_data = np.array(group_data)\n",
    "box_size = [60, 120]"
   ]
  },
  {
   "cell_type": "markdown",
   "metadata": {
    "id": "_ocXoEQ0YtbZ"
   },
   "source": [
    "## **Curvature analyses**"
   ]
  },
  {
   "cell_type": "code",
   "execution_count": null,
   "metadata": {
    "id": "chZMpZ8qZY21"
   },
   "outputs": [],
   "source": [
    "interfacial_particles_frames = []\n",
    "box_size = np.array([60, 120]).reshape((2,1))\n",
    "for frame in group_data:\n",
    "    interface = frame[frame[:,4] > 0.4][:, 1:3]\n",
    "    dnn = get_dnn_mean(interface, box_size)\n",
    "    interfaces = get_interface_refined(interface, box_size, dnn * 4)\n",
    "    # print(len(interfaces))\n",
    "    sort_interface = []\n",
    "    for inter in interfaces:\n",
    "        x_indices = np.argsort(inter[:,0])\n",
    "        inter_sort = inter[x_indices]\n",
    "        for i in range(len(inter_sort)-1):\n",
    "            p0_y = inter_sort[i][1]\n",
    "            p1_y = inter_sort[i+1][1]\n",
    "            dis = p1_y - p0_y\n",
    "            if dis > box_size[1]/2:\n",
    "                inter_sort[i+1, 1] = p1_y - box_size[1]\n",
    "            if dis < -box_size[1]/2:\n",
    "                inter_sort[i+1, 1] = p1_y + box_size[1]\n",
    "        sort_interface.append(inter_sort)\n",
    "    #     plt.plot(*inter_sort.T, 'o')\n",
    "    # plt.show()\n",
    "    interfacial_particles_frames.append(sort_interface)"
   ]
  },
  {
   "cell_type": "code",
   "execution_count": null,
   "metadata": {
    "id": "J3b16pt_aEcq"
   },
   "outputs": [],
   "source": [
    "curv_std = []; all_curv = []\n",
    "for frame in interfacial_particles_frames:\n",
    "  for interface in frame:\n",
    "    sorted_interface = sort_particles(interface, box_size[0]/2)\n",
    "    curv = []\n",
    "    for i in range(1, len(sorted_interface)-1):\n",
    "      p1 = sorted_interface[i-1]\n",
    "      p2 = sorted_interface[i]\n",
    "      p3 = sorted_interface[i+1] \n",
    "      centre, radius = define_circle(p1, p2, p3)\n",
    "      all_curv.append(1/radius)\n",
    "      curv.append(1/radius)\n",
    "    curv_std.append(np.std(curv))"
   ]
  },
  {
   "cell_type": "markdown",
   "metadata": {
    "id": "qNcUw6EjdrKE"
   },
   "source": [
    "### PDF of Curvature"
   ]
  },
  {
   "cell_type": "code",
   "execution_count": null,
   "metadata": {
    "colab": {
     "base_uri": "https://localhost:8080/",
     "height": 305
    },
    "executionInfo": {
     "elapsed": 27318,
     "status": "ok",
     "timestamp": 1607699933400,
     "user": {
      "displayName": "Louis Chen",
      "photoUrl": "https://lh3.googleusercontent.com/a-/AOh14GggPBi2Ljc5CByEmkzo5BxPlqs9Z8G4DrHDvdkma_A=s64",
      "userId": "17433184704720974577"
     },
     "user_tz": -480
    },
    "id": "JLJmWLRoWM63",
    "outputId": "aa4cb713-c5f1-4788-a41b-dad171662507"
   },
   "outputs": [
    {
     "data": {
      "image/png": "[encoded data removed]",
      "text/plain": [
       "<Figure size 432x288 with 1 Axes>"
      ]
     },
     "metadata": {
      "needs_background": "light",
      "tags": []
     },
     "output_type": "display_data"
    }
   ],
   "source": [
    "bins = np.linspace(0, 0.7, 50)\n",
    "plt.hist(all_curv, bins = bins, ec = 'k', density= True)\n",
    "plt.xlabel('curvature', fontsize = 16)\n",
    "plt.ylabel('PDF', fontsize = 16)\n",
    "plt.title('Slab', fontsize = 20)\n",
    "plt.savefig('PDF_curvature_slab.png', dpi = 150)"
   ]
  },
  {
   "cell_type": "code",
   "execution_count": null,
   "metadata": {
    "colab": {
     "base_uri": "https://localhost:8080/",
     "height": 265
    },
    "executionInfo": {
     "elapsed": 27651,
     "status": "ok",
     "timestamp": 1607699933738,
     "user": {
      "displayName": "Louis Chen",
      "photoUrl": "https://lh3.googleusercontent.com/a-/AOh14GggPBi2Ljc5CByEmkzo5BxPlqs9Z8G4DrHDvdkma_A=s64",
      "userId": "17433184704720974577"
     },
     "user_tz": -480
    },
    "id": "Apoi3ConlQxM",
    "outputId": "f4633062-6ffd-4c0b-cd2c-d757819b9187"
   },
   "outputs": [
    {
     "data": {
      "image/png": "[encoded data removed]",
      "text/plain": [
       "<Figure size 432x288 with 1 Axes>"
      ]
     },
     "metadata": {
      "needs_background": "light",
      "tags": []
     },
     "output_type": "display_data"
    }
   ],
   "source": [
    "hist, bins = np.histogram(all_curv, bins = bins, density = True)\n",
    "xdata = bins[:-1] + (bins[1]- bins[0]) / 2\n",
    "result = np.vstack((xdata, hist)).T\n",
    "plt.plot(*result.T, 'o')\n",
    "# with open('PDF_curvature_slab.pickle', 'wb') as file:\n",
    "#   pickle.dump(result, file)"
   ]
  },
  {
   "cell_type": "markdown",
   "metadata": {
    "id": "BA91-l5rdvDG"
   },
   "source": [
    "### PDF of std of curvature"
   ]
  },
  {
   "cell_type": "code",
   "execution_count": null,
   "metadata": {
    "colab": {
     "base_uri": "https://localhost:8080/"
    },
    "executionInfo": {
     "elapsed": 27961,
     "status": "ok",
     "timestamp": 1607699934053,
     "user": {
      "displayName": "Louis Chen",
      "photoUrl": "https://lh3.googleusercontent.com/a-/AOh14GggPBi2Ljc5CByEmkzo5BxPlqs9Z8G4DrHDvdkma_A=s64",
      "userId": "17433184704720974577"
     },
     "user_tz": -480
    },
    "id": "R1vxTo5KczDo",
    "outputId": "455fae05-8612-4c66-8bd4-738dfe5f7e9e"
   },
   "outputs": [
    {
     "data": {
      "image/png": "[encoded data removed]",
      "text/plain": [
       "<Figure size 432x288 with 1 Axes>"
      ]
     },
     "metadata": {
      "needs_background": "light",
      "tags": []
     },
     "output_type": "display_data"
    }
   ],
   "source": [
    "bins = np.linspace(0, 0.5, 20)\n",
    "plt.hist(curv_std, bins = bins, density=True, ec = 'k')\n",
    "plt.xlabel('std of curvature', fontsize = 16)\n",
    "plt.ylabel('PDF', fontsize = 16)\n",
    "plt.savefig('std_curvature_slab.png', dpi = 180)"
   ]
  },
  {
   "cell_type": "markdown",
   "metadata": {
    "id": "EWy6ed5W0grC"
   },
   "source": [
    "# **Simulation Clusters**"
   ]
  },
  {
   "cell_type": "markdown",
   "metadata": {
    "id": "vKNvViBmWvCB"
   },
   "source": [
    "## **Parameters**"
   ]
  },
  {
   "cell_type": "code",
   "execution_count": null,
   "metadata": {
    "id": "5Nql05XvWvCH"
   },
   "outputs": [],
   "source": [
    "minmum_particle_number_of_cluster = 150\n",
    "voronoi_cutoff = 43\n",
    "initial_frame = 400\n",
    "everyframe = 10"
   ]
  },
  {
   "cell_type": "markdown",
   "metadata": {
    "id": "frinT6RpzCCK"
   },
   "source": [
    "## **Data**"
   ]
  },
  {
   "cell_type": "code",
   "execution_count": null,
   "metadata": {
    "id": "xbUesq5CxewC"
   },
   "outputs": [],
   "source": [
    "# data = get_frames_from_xyz('/content/drive/MyDrive/Paperwork/Coding/Simulation/data/clusters.xyz', 5, 0)"
   ]
  },
  {
   "cell_type": "code",
   "execution_count": null,
   "metadata": {
    "id": "_5CspxUDN66w"
   },
   "outputs": [],
   "source": [
    "with open('/content/drive/MyDrive/Paperwork/Coding/Simulation/data/clusters.pickle', 'rb') as file:\n",
    "  data = pickle.load(file)\n",
    "box_size = [200, 200]"
   ]
  },
  {
   "cell_type": "code",
   "execution_count": null,
   "metadata": {
    "id": "Nnf4smTsQY8V"
   },
   "outputs": [],
   "source": [
    "minmum_particle_number_of_cluster = 150\n",
    "average_interface_number = 3"
   ]
  },
  {
   "cell_type": "code",
   "execution_count": null,
   "metadata": {
    "colab": {
     "base_uri": "https://localhost:8080/"
    },
    "executionInfo": {
     "elapsed": 1868,
     "status": "ok",
     "timestamp": 1607625844658,
     "user": {
      "displayName": "Louis Chen",
      "photoUrl": "https://lh3.googleusercontent.com/a-/AOh14GggPBi2Ljc5CByEmkzo5BxPlqs9Z8G4DrHDvdkma_A=s64",
      "userId": "17433184704720974577"
     },
     "user_tz": -480
    },
    "id": "smqd7TqPSqqg",
    "outputId": "3822a54e-642d-4418-ede3-ab41942f33b6"
   },
   "outputs": [
    {
     "name": "stdout",
     "output_type": "stream",
     "text": [
      "number of frames =  265\n"
     ]
    }
   ],
   "source": [
    "initial_frame = 700\n",
    "everyframe = 1\n",
    "frames = []\n",
    "for f in range(initial_frame, len(data)-everyframe, everyframe):\n",
    "    frames.append(np.array(data[f]))\n",
    "frames = np.array(frames)\n",
    "print('number of frames = ', len(frames))"
   ]
  },
  {
   "cell_type": "code",
   "execution_count": null,
   "metadata": {
    "id": "0kEctuZuPjuY"
   },
   "outputs": [],
   "source": [
    "cluster_frames = []\n",
    "for frame in frames:\n",
    "    cluster_frames.append(pick_clusters(frame,[500, 500], minmum_particle_number_of_cluster))\n",
    "cluster_frames = np.array(cluster_frames)"
   ]
  },
  {
   "cell_type": "code",
   "execution_count": null,
   "metadata": {
    "id": "_omKUCurPkZ-"
   },
   "outputs": [],
   "source": [
    "interfacial_particles_frames = []\n",
    "for i, frame in enumerate(cluster_frames):\n",
    "    interfacial_particles_groups = []\n",
    "    for group in frame:\n",
    "        interfacial_particles = group[group[:,4] > 0.7] # Voronoi cutoff\n",
    "        interfacial_particles_groups.append(np.array(interfacial_particles))\n",
    "    # print('No.%s frame has '%i, len(interfacial_particles_groups), 'groups')\n",
    "    interfacial_particles_frames.append(np.array(interfacial_particles_groups))\n",
    "interfacial_particles_frames = np.array(interfacial_particles_frames)"
   ]
  },
  {
   "cell_type": "code",
   "execution_count": null,
   "metadata": {
    "colab": {
     "base_uri": "https://localhost:8080/"
    },
    "executionInfo": {
     "elapsed": 4184,
     "status": "ok",
     "timestamp": 1607625846987,
     "user": {
      "displayName": "Louis Chen",
      "photoUrl": "https://lh3.googleusercontent.com/a-/AOh14GggPBi2Ljc5CByEmkzo5BxPlqs9Z8G4DrHDvdkma_A=s64",
      "userId": "17433184704720974577"
     },
     "user_tz": -480
    },
    "id": "SGc7P5Y2P81C",
    "outputId": "5b46808a-27c4-4f48-c7a6-5da11a557c20"
   },
   "outputs": [
    {
     "data": {
      "image/png": "[encoded data removed]",
      "text/plain": [
       "<Figure size 432x288 with 1 Axes>"
      ]
     },
     "metadata": {
      "needs_background": "light",
      "tags": []
     },
     "output_type": "display_data"
    }
   ],
   "source": [
    "for frame in interfacial_particles_frames:\n",
    "  for group in frame:\n",
    "    plt.plot(*group.T[1:3], 'o', ms = 2)\n",
    "  plt.show()\n",
    "  break"
   ]
  },
  {
   "cell_type": "code",
   "execution_count": null,
   "metadata": {
    "id": "3aGNE9CEPqkx"
   },
   "outputs": [],
   "source": [
    "sorted_particles_frames = []\n",
    "for frame in interfacial_particles_frames:\n",
    "    sorted_particles_group = []\n",
    "    for group in frame:\n",
    "        sorted_particles = sort_particles(group[:,1:3], 20)\n",
    "        sorted_particles_group.append(np.array(sorted_particles))\n",
    "    #     plt.plot(*sorted_particles.T[:2], '-o', mfc = 'k', ms = 3)\n",
    "    # plt.show()\n",
    "    sorted_particles_frames.append(np.array(sorted_particles_group))\n",
    "sorted_particles_frames = np.array(sorted_particles_frames)"
   ]
  },
  {
   "cell_type": "markdown",
   "metadata": {
    "id": "H8sn7XicUsok"
   },
   "source": [
    "##**Curvature**"
   ]
  },
  {
   "cell_type": "code",
   "execution_count": null,
   "metadata": {
    "id": "HO1dRGyGPrbb"
   },
   "outputs": [],
   "source": [
    "curv_interface_frames = []; curv_std_frames = []; curv_all = []\n",
    "for frame in sorted_particles_frames:\n",
    "    curv_interface_group = []; curv_std_group = []\n",
    "    for interface in frame:\n",
    "        curv_interface = []\n",
    "        for i in range(1, len(interface)-1):\n",
    "            p1 = interface[i-1]\n",
    "            p2 = interface[i]\n",
    "            p3 = interface[i+1]\n",
    "            centre, radius = define_circle(p1, p2, p3)\n",
    "            curv_interface.append(1/radius)\n",
    "            curv_all.append(1/radius)\n",
    "        curv_interface_group.append(curv_interface)\n",
    "        curv_std_group.append(np.std(curv_interface))\n",
    "    curv_interface_frames.append(curv_interface_group)\n",
    "    curv_std_frames.append(curv_std_group)"
   ]
  },
  {
   "cell_type": "code",
   "execution_count": null,
   "metadata": {
    "colab": {
     "base_uri": "https://localhost:8080/",
     "height": 305
    },
    "executionInfo": {
     "elapsed": 9233,
     "status": "ok",
     "timestamp": 1607625854015,
     "user": {
      "displayName": "Louis Chen",
      "photoUrl": "https://lh3.googleusercontent.com/a-/AOh14GggPBi2Ljc5CByEmkzo5BxPlqs9Z8G4DrHDvdkma_A=s64",
      "userId": "17433184704720974577"
     },
     "user_tz": -480
    },
    "id": "KunXBOLaU_NH",
    "outputId": "a03d7895-e51b-409a-8082-78db19f4288e"
   },
   "outputs": [
    {
     "data": {
      "image/png": "[encoded data removed]",
      "text/plain": [
       "<Figure size 432x288 with 1 Axes>"
      ]
     },
     "metadata": {
      "needs_background": "light",
      "tags": []
     },
     "output_type": "display_data"
    }
   ],
   "source": [
    "bins = np.linspace(0, 1.0, 50)\n",
    "plt.hist(curv_all, bins = bins, ec = 'k', density= True)\n",
    "plt.xlabel('curvature', fontsize = 16)\n",
    "plt.ylabel('PDF', fontsize = 16)\n",
    "plt.title('Clusters', fontsize = 20)\n",
    "plt.savefig('PDF_curvature_clusters_simulation.png', dpi = 150)\n"
   ]
  },
  {
   "cell_type": "markdown",
   "metadata": {
    "id": "04BaCS7Ll0vU"
   },
   "source": [
    "#**Comparison**"
   ]
  },
  {
   "cell_type": "markdown",
   "metadata": {
    "id": "gwtb34zfl3Ra"
   },
   "source": [
    "##Curvature"
   ]
  },
  {
   "cell_type": "code",
   "execution_count": null,
   "metadata": {
    "id": "jEtnB68Dl4oJ"
   },
   "outputs": [],
   "source": [
    "with open('PDF_curvature_clusters.pickle', 'rb') as file:\n",
    "  data_clusters = pickle.load(file)\n",
    "with open('PDF_curvature_slab.pickle', 'rb') as file:\n",
    "  data_slab = pickle.load(file)"
   ]
  },
  {
   "cell_type": "code",
   "execution_count": null,
   "metadata": {
    "colab": {
     "base_uri": "https://localhost:8080/",
     "height": 284
    },
    "executionInfo": {
     "elapsed": 1043,
     "status": "ok",
     "timestamp": 1607354405363,
     "user": {
      "displayName": "Louis Chen",
      "photoUrl": "https://lh3.googleusercontent.com/a-/AOh14GggPBi2Ljc5CByEmkzo5BxPlqs9Z8G4DrHDvdkma_A=s64",
      "userId": "17433184704720974577"
     },
     "user_tz": -480
    },
    "id": "-OGI2QhloqTw",
    "outputId": "79000ead-e4a0-4295-cba2-521d40cf8cf1"
   },
   "outputs": [
    {
     "data": {
      "image/png": "[encoded data removed]",
      "text/plain": [
       "<Figure size 432x288 with 1 Axes>"
      ]
     },
     "metadata": {
      "needs_background": "light",
      "tags": []
     },
     "output_type": "display_data"
    }
   ],
   "source": [
    "plt.plot(*data_clusters.T, '-o', label = 'clusters', mec = 'k')\n",
    "plt.plot(*data_slab.T, '-^', label = 'slab', mec = 'k')\n",
    "plt.legend()\n",
    "plt.xlabel('curvature', fontsize = 16)\n",
    "plt.ylabel('PDF of curvature', fontsize = 16)\n",
    "plt.savefig('PDF_curvature.png', dpi = 150)"
   ]
  },
  {
   "cell_type": "code",
   "execution_count": null,
   "metadata": {
    "id": "CeJB1Wth2lga"
   },
   "outputs": [],
   "source": [
    "cluster_size = [150, 500, 1000, 2000, 3000]\n",
    "datas = []\n",
    "for i in cluster_size:\n",
    "  with open('/content/drive/MyDrive/Paperwork/Colab/data/Curvature/PDF_curvature_clusters_%s.pickle'%(i), 'rb') as file:\n",
    "    datas.append(pickle.load(file))"
   ]
  },
  {
   "cell_type": "code",
   "execution_count": null,
   "metadata": {
    "colab": {
     "base_uri": "https://localhost:8080/",
     "height": 284
    },
    "executionInfo": {
     "elapsed": 1329,
     "status": "ok",
     "timestamp": 1607700015930,
     "user": {
      "displayName": "Louis Chen",
      "photoUrl": "https://lh3.googleusercontent.com/a-/AOh14GggPBi2Ljc5CByEmkzo5BxPlqs9Z8G4DrHDvdkma_A=s64",
      "userId": "17433184704720974577"
     },
     "user_tz": -480
    },
    "id": "CbBRcj4wvEfG",
    "outputId": "2c20ade1-1088-453a-8468-b097e592c3f0"
   },
   "outputs": [
    {
     "data": {
      "image/png": "[encoded data removed]",
      "text/plain": [
       "<Figure size 432x288 with 1 Axes>"
      ]
     },
     "metadata": {
      "needs_background": "light",
      "tags": []
     },
     "output_type": "display_data"
    }
   ],
   "source": [
    "with open('/content/drive/MyDrive/Paperwork/Colab/data/Curvature/PDF_curvature_slab.pickle', 'rb') as file:\n",
    "  data_slab = pickle.load(file)\n",
    "plt.plot(*data_slab.T, '-o', label = 'slab', mec = 'k', ms = 8)\n",
    "for i in range (len(cluster_size)):\n",
    "  plt.plot(*datas[i].T, '-o', mec = 'k', label = 'cutoff size = %s'%(cluster_size[i]), alpha = 0.8)\n",
    "plt.legend()\n",
    "plt.xlim((-0.01, 0.5))\n",
    "plt.xlabel('curvature', fontsize = 16)\n",
    "plt.ylabel('PDF of curvature', fontsize = 16)\n",
    "plt.savefig('PDF_curvature_final.png', dpi = 150)"
   ]
  },
  {
   "cell_type": "code",
   "execution_count": null,
   "metadata": {
    "id": "ir9onxA8vcDV"
   },
   "outputs": [],
   "source": []
  }
 ],
 "metadata": {
  "colab": {
   "collapsed_sections": [
    "4OLBdGvoWDBQ",
    "HieAoieGRuIx",
    "aXap0fSVSo-W",
    "Buk_e69YdOx5",
    "Ib-wLcmUdUcu",
    "BA91-l5rdvDG",
    "frinT6RpzCCK",
    "H8sn7XicUsok"
   ],
   "name": "Curvature.ipynb",
   "provenance": [],
   "toc_visible": true
  },
  "kernelspec": {
   "display_name": "Python 3",
   "language": "python",
   "name": "python3"
  },
  "language_info": {
   "codemirror_mode": {
    "name": "ipython",
    "version": 3
   },
   "file_extension": ".py",
   "mimetype": "text/x-python",
   "name": "python",
   "nbconvert_exporter": "python",
   "pygments_lexer": "ipython3",
   "version": "3.8.5"
  }
 },
 "nbformat": 4,
 "nbformat_minor": 1
}
