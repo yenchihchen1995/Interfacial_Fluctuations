{
 "cells": [
  {
   "cell_type": "markdown",
   "metadata": {},
   "source": [
    "# Definition"
   ]
  },
  {
   "cell_type": "code",
   "execution_count": 1,
   "metadata": {},
   "outputs": [],
   "source": [
    "import numpy as np\n",
    "import matplotlib.pyplot as plt\n",
    "import pickle\n",
    "import freud\n",
    "from scipy.interpolate import interp1d\n",
    "from scipy import interpolate\n",
    "from Definition import *\n",
    "from variables import *\n",
    "from shapely.geometry import Polygon, Point\n",
    "import warnings\n",
    "warnings.filterwarnings(\"ignore\", category=np.VisibleDeprecationWarning) \n",
    "%load_ext autoreload\n",
    "%autoreload 2"
   ]
  },
  {
   "cell_type": "markdown",
   "metadata": {},
   "source": [
    "### Data collection and box size determination"
   ]
  },
  {
   "cell_type": "code",
   "execution_count": 2,
   "metadata": {},
   "outputs": [
    {
     "name": "stdout",
     "output_type": "stream",
     "text": [
      "box size =  [1023.0, 1024.0]\n"
     ]
    }
   ],
   "source": [
    "with open('data/Exp_voronoi.pickle', 'rb') as file:\n",
    "    data = pickle.load(file)\n",
    "box_size = get_box_size(data)\n",
    "print('box size = ', box_size)"
   ]
  },
  {
   "cell_type": "markdown",
   "metadata": {},
   "source": [
    "### Choosing the sepcific frames"
   ]
  },
  {
   "cell_type": "code",
   "execution_count": 3,
   "metadata": {},
   "outputs": [
    {
     "name": "stdout",
     "output_type": "stream",
     "text": [
      "number of frames =  40\n"
     ]
    }
   ],
   "source": [
    "frames = []\n",
    "for f in range(initial_frame, len(data)-everyframe, everyframe):\n",
    "    frames.append(np.array(data[f]))\n",
    "frames = np.array(frames)\n",
    "print('number of frames = ', len(frames))"
   ]
  },
  {
   "cell_type": "markdown",
   "metadata": {},
   "source": [
    "### Get clusters and interfacial particles"
   ]
  },
  {
   "cell_type": "code",
   "execution_count": 4,
   "metadata": {},
   "outputs": [],
   "source": [
    "cluster_frames = []\n",
    "for frame in frames:\n",
    "    cluster_frames.append(pick_clusters(frame,box_size, minmum_particle_number_of_cluster))\n",
    "cluster_frames = np.array(cluster_frames)"
   ]
  },
  {
   "cell_type": "code",
   "execution_count": 5,
   "metadata": {},
   "outputs": [],
   "source": [
    "interfacial_particles_frames = []\n",
    "for i, frame in enumerate(cluster_frames):\n",
    "    interfacial_particles_groups = []\n",
    "    for group in frame:\n",
    "        interfacial_particles = group[group[:,2] > voronoi_cutoff]\n",
    "        interfacial_particles_groups.append(np.array(interfacial_particles))\n",
    "#     print('No.%s frame has '%i, len(interfacial_particles_groups), 'groups')\n",
    "    interfacial_particles_frames.append(np.array(interfacial_particles_groups))\n",
    "interfacial_particles_frames = np.array(interfacial_particles_frames)"
   ]
  },
  {
   "cell_type": "markdown",
   "metadata": {},
   "source": [
    "### Sort interfacial particles"
   ]
  },
  {
   "cell_type": "code",
   "execution_count": 6,
   "metadata": {},
   "outputs": [],
   "source": [
    "sorted_particles_frames = []\n",
    "for frame in interfacial_particles_frames:\n",
    "    sorted_particles_group = []\n",
    "    for group in frame:\n",
    "        sorted_particles = sort_particles(group[:,:2], 95)\n",
    "        sorted_particles_group.append(np.array(sorted_particles))\n",
    "#         plt.plot(*sorted_particles.T[:2], '-o', mfc = 'k', ms = 3)\n",
    "#     plt.show()\n",
    "    sorted_particles_frames.append(np.array(sorted_particles_group))\n",
    "sorted_particles_frames = np.array(sorted_particles_frames)"
   ]
  },
  {
   "cell_type": "markdown",
   "metadata": {},
   "source": [
    "### Get curvature of interfaces"
   ]
  },
  {
   "cell_type": "code",
   "execution_count": 7,
   "metadata": {},
   "outputs": [],
   "source": [
    "curv_interface = []\n",
    "for frame in sorted_particles_frames:\n",
    "    for interface in frame:\n",
    "        for i in range(1, len(interface)-1):\n",
    "            p1 = interface[i-1]\n",
    "            p2 = interface[i]\n",
    "            p3 = interface[i+1]\n",
    "            centre, radius = define_circle(p1, p2, p3)\n",
    "            curv_interface.append(1/radius)"
   ]
  },
  {
   "cell_type": "code",
   "execution_count": 8,
   "metadata": {},
   "outputs": [
    {
     "data": {
      "text/plain": [
       "Text(0.5, 1.0, 'Interfacial Particles')"
      ]
     },
     "execution_count": 8,
     "metadata": {},
     "output_type": "execute_result"
    },
    {
     "data": {
      "image/png": "[encoded data removed]",
      "text/plain": [
       "<Figure size 432x288 with 1 Axes>"
      ]
     },
     "metadata": {
      "needs_background": "light"
     },
     "output_type": "display_data"
    }
   ],
   "source": [
    "hist, bins = np.histogram(curv_interface, bins = np.linspace(0, 0.4, 20), density = True)\n",
    "plt.plot(bins[:-1] + (bins[1] - bins[0]) / 2 , hist, 'o')\n",
    "plt.xlabel('curvature', fontsize = 16)\n",
    "plt.ylabel('PDF', fontsize = 16)\n",
    "c_0 = np.vstack((bins[:-1] + (bins[1] - bins[0]) / 2, hist)).T\n",
    "plt.title('Interfacial Particles', fontsize = 20)\n",
    "# plt.savefig('plot/Interfacial_Particles_Curvature.png', dpi = 300)"
   ]
  },
  {
   "cell_type": "markdown",
   "metadata": {},
   "source": [
    "### Get mean interface"
   ]
  },
  {
   "cell_type": "code",
   "execution_count": 9,
   "metadata": {},
   "outputs": [],
   "source": [
    "average_number = 10\n",
    "mean_interface_frames = []\n",
    "for i, frame in enumerate(sorted_particles_frames):\n",
    "    mean_interface_group = []\n",
    "    for group in frame:\n",
    "        mean_inf = get_mean_interpolated_interface(np.array(group), 9.7)\n",
    "        mean_interface_group.append(np.array(mean_inf))\n",
    "#         plt.plot(*group.T, 'o', ms = 2)\n",
    "#         plt.plot(*mean_inf.T, c = 'k')\n",
    "#     plt.show()\n",
    "    mean_interface_frames.append(np.array(mean_interface_group))\n",
    "mean_interfaces_frames = np.array(mean_interface_frames)        "
   ]
  },
  {
   "cell_type": "markdown",
   "metadata": {},
   "source": [
    "### Get curvature of mean interface"
   ]
  },
  {
   "cell_type": "code",
   "execution_count": 10,
   "metadata": {},
   "outputs": [],
   "source": [
    "curv_mean_interface = []\n",
    "for frame in mean_interface_frames:\n",
    "    for interface in frame:\n",
    "        for i in range(1, len(interface)-1):\n",
    "            p1 = interface[i-1]\n",
    "            p2 = interface[i]\n",
    "            p3 = interface[i+1]\n",
    "            centre, radius = define_circle(p1, p2, p3)\n",
    "            curv_mean_interface.append(1/radius)"
   ]
  },
  {
   "cell_type": "code",
   "execution_count": 11,
   "metadata": {},
   "outputs": [
    {
     "data": {
      "text/plain": [
       "Text(0.5, 1.0, 'Mean Interface')"
      ]
     },
     "execution_count": 11,
     "metadata": {},
     "output_type": "execute_result"
    },
    {
     "data": {
      "image/png": "[encoded data removed]",
      "text/plain": [
       "<Figure size 432x288 with 1 Axes>"
      ]
     },
     "metadata": {
      "needs_background": "light"
     },
     "output_type": "display_data"
    }
   ],
   "source": [
    "# plt.hist(curv_mean_interface, bins = np.arange(0, 0.25, 0.005))\n",
    "hist, bins = np.histogram(curv_mean_interface,bins = np.linspace(0,0.4,20), density=True)\n",
    "plt.plot(bins[:-1] + (bins[1] - bins[0]) / 2, hist, 'o')\n",
    "plt.xlabel('curvature', fontsize = 16)\n",
    "plt.ylabel('PDF', fontsize = 16)\n",
    "plt.title('Mean Interface', fontsize = 20)\n",
    "# plt.savefig('plot/Mean_Interface_Curvature.png', dpi = 300)"
   ]
  },
  {
   "cell_type": "markdown",
   "metadata": {},
   "source": [
    "# Main work"
   ]
  },
  {
   "cell_type": "markdown",
   "metadata": {},
   "source": [
    "### Get smoother area of mean interface"
   ]
  },
  {
   "cell_type": "code",
   "execution_count": 12,
   "metadata": {},
   "outputs": [],
   "source": [
    "# import tensorflow.python.framework.dtypes\n",
    "smoother_areas_frames = []\n",
    "for frame in mean_interface_frames:\n",
    "    smoother_areas_group = []\n",
    "    for group in frame:\n",
    "        areas = pick_smoother_area(np.array(group), 0.08)\n",
    "        areas_bool = [len(a)> 180 for a in areas]\n",
    "        Areas = areas[areas_bool]\n",
    "        smoother_areas_group.append(np.array(Areas))\n",
    "#         plt.plot(*group.T, c = 'k')\n",
    "#         for area in Areas:\n",
    "#             plt.plot(*area.T, lw = 3)\n",
    "#     plt.show()\n",
    "    smoother_areas_frames.append(np.array(smoother_areas_group))\n",
    "smoother_areas_frames = np.array(smoother_areas_frames)"
   ]
  },
  {
   "cell_type": "markdown",
   "metadata": {},
   "source": [
    "### Map the interfacial particles to the smoother areas"
   ]
  },
  {
   "cell_type": "code",
   "execution_count": 13,
   "metadata": {},
   "outputs": [],
   "source": [
    "# %matplotlib\n",
    "smooth_area_particles_frames = []\n",
    "for frame_area, frame_mean_interface, frame_particle in zip(smoother_areas_frames, mean_interface_frames, sorted_particles_frames):\n",
    "    smooth_area_particles_group = []\n",
    "    for group_mean_interface, group_particle, group_area in zip(frame_mean_interface, frame_particle, frame_area):\n",
    "        dist = cdist(group_particle, group_mean_interface)\n",
    "        proj_label = np.argmin(dist, axis = 1)\n",
    "        proj_mean_interface = group_mean_interface[proj_label]\n",
    "        smooth_area_particle_area = []\n",
    "        for area in group_area:\n",
    "            proj_area_bool = np.isin(np.around(proj_mean_interface, decimals = 3), np.around(area, decimals =3))\n",
    "            proj_particle = group_particle[proj_area_bool.all(1)]\n",
    "            smooth_area_particle_area.append(proj_particle)\n",
    "#             plt.plot(*proj_particle.T, 'o', ms = 2)\n",
    "#             plt.plot(*area.T)\n",
    "        smooth_area_particles_group.append(np.array(smooth_area_particle_area))\n",
    "    smooth_area_particles_frames.append(smooth_area_particles_group)##\n",
    "#     plt.show()\n",
    "    \n",
    "smooth_area_particles_frames = np.array(smooth_area_particles_frames)\n",
    "# print(smooth_area_particles_frames)"
   ]
  },
  {
   "cell_type": "markdown",
   "metadata": {},
   "source": [
    "### Height-Height Correlation Function"
   ]
  },
  {
   "cell_type": "code",
   "execution_count": 15,
   "metadata": {},
   "outputs": [],
   "source": [
    "total_h = [] #for height PDF\n",
    "HH_total = [] #for h-h corr function\n",
    "bins = np.linspace(0,40,30)\n",
    "for particle_frame, area_frame, mean_frames in zip(smooth_area_particles_frames, smoother_areas_frames, mean_interfaces_frames):\n",
    "    for particle_group, area_group, mean_group in zip(particle_frame, area_frame, mean_frames):\n",
    "        try:\n",
    "            polygon = Polygon(mean_group)\n",
    "        except:\n",
    "            continue\n",
    "        HH_area = []\n",
    "        for particle_area, mean_area in zip(particle_group, area_group):\n",
    "            distance = cdist(particle_area, mean_area)\n",
    "            height = distance.min(axis=1)\n",
    "            height_sign = np.ones(len(height), dtype = int)\n",
    "            for i, p in enumerate(particle_area):\n",
    "                point = Point(p[0], p[1])\n",
    "                if polygon.contains(point) == True:\n",
    "                    height_sign[i] *= -1\n",
    "            total_h.append(height * height_sign)\n",
    "#             print(mean_area)\n",
    "#height-height correlation function\n",
    "#             HH = hh_corr_cluster(particle_area, mean_area, height *height_sign, bins)\n",
    "#             HH_total.append(np.array(HH))\n",
    "# total_h = np.array(total_h)\n",
    "# HH_total = np.array(HH_total)"
   ]
  },
  {
   "cell_type": "markdown",
   "metadata": {},
   "source": [
    "### Height-Height Correlation plot"
   ]
  },
  {
   "cell_type": "code",
   "execution_count": 322,
   "metadata": {},
   "outputs": [],
   "source": [
    "# HH_average = np.nanmean(HH_total, axis = 0)\n",
    "# plt.plot(bins[:-1], HH_average, 'o'); plt.xlabel('x', fontsize = 16); plt.ylabel('$g_h(x)$', fontsize = 16)\n",
    "# # plt.savefig('Exp_HH.png', dpi = 300)\n",
    "# plt.show()"
   ]
  },
  {
   "cell_type": "markdown",
   "metadata": {},
   "source": [
    "### Height PDF plot"
   ]
  },
  {
   "cell_type": "code",
   "execution_count": 16,
   "metadata": {},
   "outputs": [
    {
     "name": "stdout",
     "output_type": "stream",
     "text": [
      "Training data= 10571\n"
     ]
    },
    {
     "data": {
      "image/png": "[encoded data removed]",
      "text/plain": [
       "<Figure size 432x288 with 1 Axes>"
      ]
     },
     "metadata": {
      "needs_background": "light"
     },
     "output_type": "display_data"
    }
   ],
   "source": [
    "h_total = np.concatenate(total_h)\n",
    "plt.hist(h_total, bins = np.linspace(-30, 30, 20), ec = 'k' , density = True); plt.xlabel('h', fontsize = 16); plt.ylabel('PDF', fontsize = 16)\n",
    "print('Training data=', len(h_total))\n",
    "plt.show()\n",
    "# plt.savefig('Exp_HPDF.png', dpi = 300)"
   ]
  },
  {
   "cell_type": "code",
   "execution_count": 17,
   "metadata": {},
   "outputs": [
    {
     "data": {
      "text/plain": [
       "[<matplotlib.lines.Line2D at 0x7fde7bd19730>]"
      ]
     },
     "execution_count": 17,
     "metadata": {},
     "output_type": "execute_result"
    },
    {
     "data": {
      "image/png": "[encoded data removed]",
      "text/plain": [
       "<Figure size 432x288 with 1 Axes>"
      ]
     },
     "metadata": {
      "needs_background": "light"
     },
     "output_type": "display_data"
    }
   ],
   "source": [
    "hist, bins = np.histogram(h_total, bins = np.linspace(-30,30,40), density = True)\n",
    "xdata = bins[:-1] + (bins[1]-bins[0])/2\n",
    "plt.plot(xdata, hist, '-o')"
   ]
  },
  {
   "cell_type": "code",
   "execution_count": 18,
   "metadata": {},
   "outputs": [
    {
     "name": "stdout",
     "output_type": "stream",
     "text": [
      "[5.36771743 1.64467632]\n"
     ]
    },
    {
     "data": {
      "text/plain": [
       "Text(0, 0.5, 'PDF')"
      ]
     },
     "execution_count": 18,
     "metadata": {},
     "output_type": "execute_result"
    },
    {
     "data": {
      "image/png": "[encoded data removed]",
      "text/plain": [
       "<Figure size 432x288 with 1 Axes>"
      ]
     },
     "metadata": {
      "needs_background": "light"
     },
     "output_type": "display_data"
    }
   ],
   "source": [
    "from scipy.optimize import curve_fit\n",
    "plt.hist(h_total, bins = np.linspace(-30, 30, 30), ec = 'k' , density = True)\n",
    "plt.plot(xdata, hist, 'o')\n",
    "xdata = bins[:-1] + (bins[1]-bins[0])/2\n",
    "ydata = hist\n",
    "popt, pov = curve_fit(func, xdata, ydata)\n",
    "xnew = np.linspace(-30,30,1000)\n",
    "plt.plot(xnew, func(xnew, *popt), label = 'Fitting (clusters)', lw = 3, c= 'k')\n",
    "plt.text(-30, 0.06, 'σ = %.6s'%popt[0])\n",
    "plt.text(-30, 0.055, 'μ = %.6s'%popt[1])\n",
    "print(popt)\n",
    "popt = [4.803, 0.255]\n",
    "plt.plot(xnew, func(xnew, *popt), label = 'Slab (flat interface)', lw = 3)\n",
    "plt.legend()\n",
    "plt.title('Experimental data', fontsize = 20)\n",
    "plt.xlabel('height', fontsize = 16)\n",
    "plt.ylabel('PDF', fontsize = 16)\n",
    "# plt.savefig('plot/Exp_hPDF.png', dpi = 300)"
   ]
  },
  {
   "cell_type": "code",
   "execution_count": null,
   "metadata": {},
   "outputs": [],
   "source": []
  },
  {
   "cell_type": "code",
   "execution_count": null,
   "metadata": {},
   "outputs": [],
   "source": []
  }
 ],
 "metadata": {
  "kernelspec": {
   "display_name": "Python 3",
   "language": "python",
   "name": "python3"
  },
  "language_info": {
   "codemirror_mode": {
    "name": "ipython",
    "version": 3
   },
   "file_extension": ".py",
   "mimetype": "text/x-python",
   "name": "python",
   "nbconvert_exporter": "python",
   "pygments_lexer": "ipython3",
   "version": "3.8.5"
  }
 },
 "nbformat": 4,
 "nbformat_minor": 4
}
